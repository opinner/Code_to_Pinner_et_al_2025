{
 "cells": [
  {
   "cell_type": "code",
   "execution_count": 4,
   "id": "02129228",
   "metadata": {},
   "outputs": [
    {
     "name": "stdout",
     "output_type": "stream",
     "text": [
      " BBL.ipynb\r\n",
      " calculate_energy_levels.py\r\n",
      " \u001b[0m\u001b[01;34mCATS_data\u001b[0m/\r\n",
      " compare_barotropic_calculations.py\r\n",
      " ctd_cast.py\r\n",
      " \u001b[01;34mdata\u001b[0m/\r\n",
      " Diffusivity.ipynb\r\n",
      " \u001b[01;34mfigures\u001b[0m/\r\n",
      "'first Try of a Diffusivity calculation.ipynb'\r\n",
      " gm_library.py\r\n",
      " helper_functions.py\r\n",
      " \u001b[01;35mKrho_calculation_new.png\u001b[0m\r\n",
      " K_rho_fig.pkl\r\n",
      " list_of_moorings.pkl\r\n",
      " load_temperature_into_data_frames.py\r\n",
      " load_velocity_into_data_frames.py\r\n",
      " location.py\r\n",
      " \u001b[01;35mmap_CTD_locations.png\u001b[0m\r\n",
      "'Method Documentation Energy Level from Spectra.ipynb'\r\n",
      " mooring.py\r\n",
      " plot_energy_levels.py\r\n",
      "'prepare CATS model data.ipynb'\r\n",
      " \u001b[01;34m__pycache__\u001b[0m/\r\n",
      " PyTMD_test.ipynb\r\n",
      "'Systematic Error Search.ipynb'\r\n",
      " \u001b[01;34mttide_method\u001b[0m/\r\n"
     ]
    }
   ],
   "source": [
    "ls"
   ]
  },
  {
   "cell_type": "code",
   "execution_count": 5,
   "id": "d3a449af",
   "metadata": {},
   "outputs": [],
   "source": [
    "import numpy as np\n",
    "import scipy.io as sio\n",
    "import helper_functions as help\n",
    "import datetime as dt\n",
    "import pandas as pd"
   ]
  },
  {
   "cell_type": "code",
   "execution_count": 6,
   "id": "da71e667",
   "metadata": {},
   "outputs": [],
   "source": [
    "def get_filepaths_from_directory(directory = \"/media/sf_VM_Folder/data\", inclusive = \"\", exclusive = ()):\n",
    "\n",
    "    #endswith method requires string or tuple of strings\n",
    "    if type(inclusive) is not str and type(inclusive) is not tuple:\n",
    "        inclusive = tuple(inclusive)\n",
    "    if not type(inclusive) is not str and type(inclusive) is not tuple:\n",
    "        exclusive = tuple(exclusive)\n",
    "\n",
    "    def all_files(folder):\n",
    "        import os\n",
    "        for path, dirs, files in os.walk(folder):\n",
    "            for f in files:\n",
    "                yield os.path.join(path, f)\n",
    "\n",
    "    list_of_files = [f for f in all_files(directory)]\n",
    "\n",
    "    return [f for f in list_of_files if f.endswith(inclusive) and not f.endswith(exclusive)]"
   ]
  },
  {
   "cell_type": "code",
   "execution_count": 7,
   "id": "74ef5165",
   "metadata": {
    "scrolled": true
   },
   "outputs": [],
   "source": [
    "DIRECTORY = \"./CATS_data\""
   ]
  },
  {
   "cell_type": "code",
   "execution_count": 8,
   "id": "a3d64cd9",
   "metadata": {},
   "outputs": [
    {
     "name": "stdout",
     "output_type": "stream",
     "text": [
      "./CATS_data/u1.mat\n",
      "./CATS_data/u2.mat\n",
      "./CATS_data/u3.mat\n",
      "./CATS_data/u4.mat\n",
      "./CATS_data/u5.mat\n",
      "./CATS_data/u6.mat\n",
      "./CATS_data/u7.mat\n",
      "./CATS_data/v1.mat\n",
      "./CATS_data/v2.mat\n",
      "./CATS_data/v3.mat\n",
      "./CATS_data/v4.mat\n",
      "./CATS_data/v5.mat\n",
      "./CATS_data/v6.mat\n",
      "./CATS_data/v7.mat\n"
     ]
    }
   ],
   "source": [
    "paths = sorted(get_filepaths_from_directory(DIRECTORY, inclusive = (\".mat\",), exclusive = \".model.out\"))\n",
    "for path in paths:\n",
    "    print(path)"
   ]
  },
  {
   "cell_type": "code",
   "execution_count": 9,
   "id": "0e9346c0",
   "metadata": {},
   "outputs": [],
   "source": [
    "cats = pd.DataFrame()\n",
    "\n",
    "lats = []\n",
    "lons = []\n",
    "barotropic = []\n",
    "\n",
    "for upath, vpath in zip(paths[:7],paths[7:]):\n",
    "    \n",
    "    u_data = sio.loadmat(upath) \n",
    "    u = u_data[\"TimeSeries\"][0] #in units of cm/s\n",
    "    u_time_as_strings = u_data[\"Time\"]\n",
    "    read_in_lat = u_data[\"lat\"][0][0]\n",
    "    read_in_lon = u_data[\"lon\"][0][0]\n",
    "\n",
    "    v_data = sio.loadmat(vpath) \n",
    "    v = v_data[\"TimeSeries\"][0] #in units of cm/s\n",
    "    v_time_as_strings = v_data[\"Time\"]\n",
    "    assert read_in_lat == v_data[\"lat\"][0][0]\n",
    "    assert read_in_lon == v_data[\"lon\"][0][0]\n",
    "\n",
    "    #Check if u and v share the same timestamps  \n",
    "    assert np.all(u_time_as_strings == v_time_as_strings) \n",
    "\n",
    "    #converts the first 4 values from bytes into strings, joins them and parses them to a datetime object \n",
    "    time = np.asarray([dt.datetime.strptime(string, '%d-%b-%Y %H:%M:%S') for string in u_time_as_strings])\n",
    "\n",
    "    #convert to m/s\n",
    "    u = u/100\n",
    "    v = v/100\n",
    "\n",
    "    cv = u+1j*v\n",
    "    \n",
    "    if \"time\" not in cats.columns:\n",
    "        cats[\"time\"] = time\n",
    "        cats.set_index(\"time\")\n",
    "    else:\n",
    "        assert np.all(time == cats[\"time\"])\n",
    "    \n",
    "    cats[(read_in_lat,read_in_lon)]= cv\n",
    "    \n",
    "    if read_in_lat not in lats: lats.append(read_in_lat)\n",
    "    if read_in_lon not in lons: lons.append(read_in_lon)"
   ]
  },
  {
   "cell_type": "code",
   "execution_count": 10,
   "id": "f8d2c778",
   "metadata": {
    "scrolled": false
   },
   "outputs": [
    {
     "data": {
      "text/html": [
       "<div>\n",
       "<style scoped>\n",
       "    .dataframe tbody tr th:only-of-type {\n",
       "        vertical-align: middle;\n",
       "    }\n",
       "\n",
       "    .dataframe tbody tr th {\n",
       "        vertical-align: top;\n",
       "    }\n",
       "\n",
       "    .dataframe thead th {\n",
       "        text-align: right;\n",
       "    }\n",
       "</style>\n",
       "<table border=\"1\" class=\"dataframe\">\n",
       "  <thead>\n",
       "    <tr style=\"text-align: right;\">\n",
       "      <th></th>\n",
       "      <th>time</th>\n",
       "      <th>(-63.4, -52.28)</th>\n",
       "      <th>(-63.51, -51.64)</th>\n",
       "      <th>(-63.66, -50.81)</th>\n",
       "      <th>(-63.78, -50.09)</th>\n",
       "      <th>(-63.92, -49.27)</th>\n",
       "      <th>(-64.01, -48.38)</th>\n",
       "      <th>(-64.22, -47.49)</th>\n",
       "    </tr>\n",
       "  </thead>\n",
       "  <tbody>\n",
       "    <tr>\n",
       "      <th>0</th>\n",
       "      <td>2017-01-25 00:00:00</td>\n",
       "      <td>-0.144710+0.037970j</td>\n",
       "      <td>-0.037595+0.075402j</td>\n",
       "      <td>-0.012132+0.054973j</td>\n",
       "      <td>-0.010797+0.042936j</td>\n",
       "      <td>-0.007420+0.031157j</td>\n",
       "      <td>-0.008529+0.023402j</td>\n",
       "      <td>-0.007474+0.016608j</td>\n",
       "    </tr>\n",
       "    <tr>\n",
       "      <th>1</th>\n",
       "      <td>2017-01-25 01:00:00</td>\n",
       "      <td>-0.124351-0.015638j</td>\n",
       "      <td>-0.029557+0.053391j</td>\n",
       "      <td>-0.006571+0.041991j</td>\n",
       "      <td>-0.007679+0.032776j</td>\n",
       "      <td>-0.004884+0.024255j</td>\n",
       "      <td>-0.006410+0.018159j</td>\n",
       "      <td>-0.005970+0.012541j</td>\n",
       "    </tr>\n",
       "    <tr>\n",
       "      <th>2</th>\n",
       "      <td>2017-01-25 02:00:00</td>\n",
       "      <td>-0.092495-0.067004j</td>\n",
       "      <td>-0.018965+0.027961j</td>\n",
       "      <td>-0.000986+0.026336j</td>\n",
       "      <td>-0.004500+0.020619j</td>\n",
       "      <td>-0.002726+0.015913j</td>\n",
       "      <td>-0.004654+0.011954j</td>\n",
       "      <td>-0.004968+0.007873j</td>\n",
       "    </tr>\n",
       "    <tr>\n",
       "      <th>3</th>\n",
       "      <td>2017-01-25 03:00:00</td>\n",
       "      <td>-0.052747-0.108082j</td>\n",
       "      <td>-0.006844+0.003871j</td>\n",
       "      <td>0.004315+0.011192j</td>\n",
       "      <td>-0.001361+0.009173j</td>\n",
       "      <td>-0.000857+0.008194j</td>\n",
       "      <td>-0.003125+0.006412j</td>\n",
       "      <td>-0.004137+0.003912j</td>\n",
       "    </tr>\n",
       "    <tr>\n",
       "      <th>4</th>\n",
       "      <td>2017-01-25 04:00:00</td>\n",
       "      <td>-0.009736-0.132998j</td>\n",
       "      <td>0.005601-0.014986j</td>\n",
       "      <td>0.009144-0.000833j</td>\n",
       "      <td>0.001733+0.000596j</td>\n",
       "      <td>0.000964+0.002719j</td>\n",
       "      <td>-0.001514+0.002765j</td>\n",
       "      <td>-0.002983+0.001627j</td>\n",
       "    </tr>\n",
       "    <tr>\n",
       "      <th>...</th>\n",
       "      <td>...</td>\n",
       "      <td>...</td>\n",
       "      <td>...</td>\n",
       "      <td>...</td>\n",
       "      <td>...</td>\n",
       "      <td>...</td>\n",
       "      <td>...</td>\n",
       "      <td>...</td>\n",
       "    </tr>\n",
       "    <tr>\n",
       "      <th>26995</th>\n",
       "      <td>2020-02-23 18:59:59</td>\n",
       "      <td>0.027606+0.020609j</td>\n",
       "      <td>-0.002436-0.035469j</td>\n",
       "      <td>-0.014904-0.030923j</td>\n",
       "      <td>-0.010771-0.028254j</td>\n",
       "      <td>-0.013016-0.024334j</td>\n",
       "      <td>-0.012285-0.020498j</td>\n",
       "      <td>-0.014872-0.016995j</td>\n",
       "    </tr>\n",
       "    <tr>\n",
       "      <th>26996</th>\n",
       "      <td>2020-02-23 19:59:59</td>\n",
       "      <td>0.002989+0.071362j</td>\n",
       "      <td>-0.009101+0.003499j</td>\n",
       "      <td>-0.018444-0.003557j</td>\n",
       "      <td>-0.013824-0.004929j</td>\n",
       "      <td>-0.015740-0.006166j</td>\n",
       "      <td>-0.015764-0.005643j</td>\n",
       "      <td>-0.017574-0.005330j</td>\n",
       "    </tr>\n",
       "    <tr>\n",
       "      <th>26997</th>\n",
       "      <td>2020-02-23 20:59:59</td>\n",
       "      <td>-0.026499+0.117704j</td>\n",
       "      <td>-0.015679+0.043289j</td>\n",
       "      <td>-0.019556+0.024727j</td>\n",
       "      <td>-0.014678+0.019173j</td>\n",
       "      <td>-0.015602+0.012709j</td>\n",
       "      <td>-0.016131+0.009589j</td>\n",
       "      <td>-0.016752+0.006696j</td>\n",
       "    </tr>\n",
       "    <tr>\n",
       "      <th>26998</th>\n",
       "      <td>2020-02-23 21:59:59</td>\n",
       "      <td>-0.056929+0.148419j</td>\n",
       "      <td>-0.021336+0.075703j</td>\n",
       "      <td>-0.018262+0.048166j</td>\n",
       "      <td>-0.013421+0.038999j</td>\n",
       "      <td>-0.012918+0.028266j</td>\n",
       "      <td>-0.013666+0.021923j</td>\n",
       "      <td>-0.013001+0.016425j</td>\n",
       "    </tr>\n",
       "    <tr>\n",
       "      <th>26999</th>\n",
       "      <td>2020-02-23 22:59:59</td>\n",
       "      <td>-0.083527+0.155380j</td>\n",
       "      <td>-0.025252+0.094148j</td>\n",
       "      <td>-0.015031+0.062107j</td>\n",
       "      <td>-0.010583+0.050527j</td>\n",
       "      <td>-0.008558+0.037320j</td>\n",
       "      <td>-0.009278+0.028838j</td>\n",
       "      <td>-0.007576+0.021821j</td>\n",
       "    </tr>\n",
       "  </tbody>\n",
       "</table>\n",
       "<p>27000 rows × 8 columns</p>\n",
       "</div>"
      ],
      "text/plain": [
       "                     time     (-63.4, -52.28)    (-63.51, -51.64)  \\\n",
       "0     2017-01-25 00:00:00 -0.144710+0.037970j -0.037595+0.075402j   \n",
       "1     2017-01-25 01:00:00 -0.124351-0.015638j -0.029557+0.053391j   \n",
       "2     2017-01-25 02:00:00 -0.092495-0.067004j -0.018965+0.027961j   \n",
       "3     2017-01-25 03:00:00 -0.052747-0.108082j -0.006844+0.003871j   \n",
       "4     2017-01-25 04:00:00 -0.009736-0.132998j  0.005601-0.014986j   \n",
       "...                   ...                 ...                 ...   \n",
       "26995 2020-02-23 18:59:59  0.027606+0.020609j -0.002436-0.035469j   \n",
       "26996 2020-02-23 19:59:59  0.002989+0.071362j -0.009101+0.003499j   \n",
       "26997 2020-02-23 20:59:59 -0.026499+0.117704j -0.015679+0.043289j   \n",
       "26998 2020-02-23 21:59:59 -0.056929+0.148419j -0.021336+0.075703j   \n",
       "26999 2020-02-23 22:59:59 -0.083527+0.155380j -0.025252+0.094148j   \n",
       "\n",
       "         (-63.66, -50.81)    (-63.78, -50.09)    (-63.92, -49.27)  \\\n",
       "0     -0.012132+0.054973j -0.010797+0.042936j -0.007420+0.031157j   \n",
       "1     -0.006571+0.041991j -0.007679+0.032776j -0.004884+0.024255j   \n",
       "2     -0.000986+0.026336j -0.004500+0.020619j -0.002726+0.015913j   \n",
       "3      0.004315+0.011192j -0.001361+0.009173j -0.000857+0.008194j   \n",
       "4      0.009144-0.000833j  0.001733+0.000596j  0.000964+0.002719j   \n",
       "...                   ...                 ...                 ...   \n",
       "26995 -0.014904-0.030923j -0.010771-0.028254j -0.013016-0.024334j   \n",
       "26996 -0.018444-0.003557j -0.013824-0.004929j -0.015740-0.006166j   \n",
       "26997 -0.019556+0.024727j -0.014678+0.019173j -0.015602+0.012709j   \n",
       "26998 -0.018262+0.048166j -0.013421+0.038999j -0.012918+0.028266j   \n",
       "26999 -0.015031+0.062107j -0.010583+0.050527j -0.008558+0.037320j   \n",
       "\n",
       "         (-64.01, -48.38)    (-64.22, -47.49)  \n",
       "0     -0.008529+0.023402j -0.007474+0.016608j  \n",
       "1     -0.006410+0.018159j -0.005970+0.012541j  \n",
       "2     -0.004654+0.011954j -0.004968+0.007873j  \n",
       "3     -0.003125+0.006412j -0.004137+0.003912j  \n",
       "4     -0.001514+0.002765j -0.002983+0.001627j  \n",
       "...                   ...                 ...  \n",
       "26995 -0.012285-0.020498j -0.014872-0.016995j  \n",
       "26996 -0.015764-0.005643j -0.017574-0.005330j  \n",
       "26997 -0.016131+0.009589j -0.016752+0.006696j  \n",
       "26998 -0.013666+0.021923j -0.013001+0.016425j  \n",
       "26999 -0.009278+0.028838j -0.007576+0.021821j  \n",
       "\n",
       "[27000 rows x 8 columns]"
      ]
     },
     "execution_count": 10,
     "metadata": {},
     "output_type": "execute_result"
    }
   ],
   "source": [
    "cats"
   ]
  },
  {
   "cell_type": "code",
   "execution_count": 11,
   "id": "d2559e30",
   "metadata": {},
   "outputs": [
    {
     "data": {
      "text/plain": [
       "array([-0.14470984+0.03797044j, -0.12435118-0.01563825j,\n",
       "       -0.09249512-0.06700447j, ..., -0.02649942+0.11770411j,\n",
       "       -0.05692933+0.14841868j, -0.08352728+0.15537968j])"
      ]
     },
     "execution_count": 11,
     "metadata": {},
     "output_type": "execute_result"
    }
   ],
   "source": [
    "cats.iloc[:,1].to_numpy()"
   ]
  },
  {
   "cell_type": "code",
   "execution_count": 12,
   "id": "92ab6236",
   "metadata": {},
   "outputs": [],
   "source": [
    "cats.to_pickle(\"./cats_data.pickle\")"
   ]
  },
  {
   "cell_type": "code",
   "execution_count": 13,
   "id": "3e823e02",
   "metadata": {
    "scrolled": false
   },
   "outputs": [
    {
     "name": "stderr",
     "output_type": "stream",
     "text": [
      "/home/ole/anaconda3/lib/python3.8/site-packages/matplotlib/cbook/__init__.py:1335: ComplexWarning: Casting complex values to real discards the imaginary part\n",
      "  return np.asarray(x, float)\n"
     ]
    },
    {
     "data": {
      "text/plain": [
       "<Axes: >"
      ]
     },
     "execution_count": 13,
     "metadata": {},
     "output_type": "execute_result"
    },
    {
     "data": {
      "image/png": "[encoded data removed]",
      "text/plain": [
       "<Figure size 432x288 with 1 Axes>"
      ]
     },
     "metadata": {
      "needs_background": "light"
     },
     "output_type": "display_data"
    }
   ],
   "source": [
    "cats.plot(y = (-63.4, -52.28), use_index = True)"
   ]
  },
  {
   "cell_type": "markdown",
   "id": "ac08d303",
   "metadata": {},
   "source": [
    "# Calculate barotropic energies"
   ]
  },
  {
   "cell_type": "code",
   "execution_count": 20,
   "id": "7ef4913b",
   "metadata": {},
   "outputs": [
    {
     "data": {
      "text/plain": [
       "(-63.4, -52.28)     0.012530\n",
       "(-63.51, -51.64)    0.002918\n",
       "(-63.66, -50.81)    0.001378\n",
       "(-63.78, -50.09)    0.000891\n",
       "(-63.92, -49.27)    0.000565\n",
       "(-64.01, -48.38)    0.000413\n",
       "(-64.22, -47.49)    0.000308\n",
       "dtype: float64"
      ]
     },
     "execution_count": 20,
     "metadata": {},
     "output_type": "execute_result"
    }
   ],
   "source": [
    "cats.loc[:, cats.columns!='time'].var()"
   ]
  },
  {
   "cell_type": "code",
   "execution_count": 21,
   "id": "f1a63ddc",
   "metadata": {},
   "outputs": [
    {
     "data": {
      "text/plain": [
       "(-63.4, -52.28)     0.012529\n",
       "(-63.51, -51.64)    0.002918\n",
       "(-63.66, -50.81)    0.001378\n",
       "(-63.78, -50.09)    0.000891\n",
       "(-63.92, -49.27)    0.000565\n",
       "(-64.01, -48.38)    0.000413\n",
       "(-64.22, -47.49)    0.000308\n",
       "dtype: float64"
      ]
     },
     "execution_count": 21,
     "metadata": {},
     "output_type": "execute_result"
    }
   ],
   "source": [
    "barotropic = cats.loc[:, cats.columns!='time'].abs().pow(2).mean()\n",
    "barotropic"
   ]
  },
  {
   "cell_type": "code",
   "execution_count": 16,
   "id": "3e5e3bc3",
   "metadata": {},
   "outputs": [
    {
     "data": {
      "text/plain": [
       "pandas.core.series.Series"
      ]
     },
     "execution_count": 16,
     "metadata": {},
     "output_type": "execute_result"
    }
   ],
   "source": [
    "type(barotropic)"
   ]
  },
  {
   "cell_type": "code",
   "execution_count": 17,
   "id": "b7412983",
   "metadata": {},
   "outputs": [
    {
     "data": {
      "text/plain": [
       "(-63.4, -52.28)     1.162710e-05-1.250095e-05j\n",
       "(-63.51, -51.64)    3.739993e-06-6.228895e-06j\n",
       "(-63.66, -50.81)    1.574625e-06-2.616550e-06j\n",
       "(-63.78, -50.09)    1.186877e-07-9.799447e-07j\n",
       "(-63.92, -49.27)    2.493600e-07-8.820109e-07j\n",
       "(-64.01, -48.38)    6.642715e-07-5.585486e-07j\n",
       "(-64.22, -47.49)    5.418933e-07+1.224484e-08j\n",
       "dtype: complex128"
      ]
     },
     "execution_count": 17,
     "metadata": {},
     "output_type": "execute_result"
    }
   ],
   "source": [
    "barotropic = cats.loc[:, cats.columns!='time'].mean()\n",
    "barotropic"
   ]
  },
  {
   "cell_type": "code",
   "execution_count": 18,
   "id": "14b4ff85",
   "metadata": {},
   "outputs": [
    {
     "name": "stderr",
     "output_type": "stream",
     "text": [
      "/home/ole/anaconda3/lib/python3.8/site-packages/matplotlib/cbook/__init__.py:1335: ComplexWarning: Casting complex values to real discards the imaginary part\n",
      "  return np.asarray(x, float)\n"
     ]
    },
    {
     "data": {
      "text/plain": [
       "<Axes: >"
      ]
     },
     "execution_count": 18,
     "metadata": {},
     "output_type": "execute_result"
    },
    {
     "data": {
      "image/png": "[encoded data removed]",
      "text/plain": [
       "<Figure size 432x288 with 1 Axes>"
      ]
     },
     "metadata": {
      "needs_background": "light"
     },
     "output_type": "display_data"
    }
   ],
   "source": [
    "barotropic.plot()"
   ]
  },
  {
   "cell_type": "code",
   "execution_count": null,
   "id": "a1c92ec5",
   "metadata": {},
   "outputs": [],
   "source": [
    "barotropic.to_pickle(\"./cats_barotropic_energies.pickle\")"
   ]
  }
 ],
 "metadata": {
  "kernelspec": {
   "display_name": "Python 3",
   "language": "python",
   "name": "python3"
  },
  "language_info": {
   "codemirror_mode": {
    "name": "ipython",
    "version": 3
   },
   "file_extension": ".py",
   "mimetype": "text/x-python",
   "name": "python",
   "nbconvert_exporter": "python",
   "pygments_lexer": "ipython3",
   "version": "3.8.8"
  }
 },
 "nbformat": 4,
 "nbformat_minor": 5
}
