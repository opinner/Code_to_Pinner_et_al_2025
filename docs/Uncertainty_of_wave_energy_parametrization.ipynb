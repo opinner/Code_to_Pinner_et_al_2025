{
  "nbformat": 4,
  "nbformat_minor": 0,
  "metadata": {
    "colab": {
      "provenance": []
    },
    "kernelspec": {
      "name": "python3",
      "display_name": "Python 3"
    },
    "language_info": {
      "name": "python"
    }
  },
  "cells": [
    {
      "cell_type": "code",
      "execution_count": null,
      "metadata": {
        "id": "q6IfqwMrbCwO"
      },
      "outputs": [],
      "source": [
        "import sympy as sp\n",
        "#sp.init_printing()"
      ]
    },
    {
      "cell_type": "markdown",
      "source": [
        "\\begin{equation}\n",
        "  \\left( \\Delta \\log_{10} \\varepsilon_\\text{IGW}(E,N) \\right)^2 = \\left( \\Delta N \\frac{\\partial}{\\partial N} \\varepsilon_\\text{IGW}(E,N) \\right)^2 + \\left( \\Delta E \\frac{\\partial}{\\partial E} \\varepsilon_\\text{IGW}(E,N) \\right)^2\n",
        "\\end{equation}"
      ],
      "metadata": {
        "id": "lM2Ujsc5VT0z"
      }
    },
    {
      "cell_type": "code",
      "source": [
        "coriolis_frequency, buoyancy_frequency, energy_level = sp.symbols('f N E', positive=True)\n",
        "MIXING_EFFICIENCY, MU_0 , m_star = sp.symbols(r'\\gamma \\mu_0 m_\\star', positive=True)"
      ],
      "metadata": {
        "id": "qDHA4cimbwMB"
      },
      "execution_count": null,
      "outputs": []
    },
    {
      "cell_type": "code",
      "source": [
        "def get_dissipation_rate(coriolis_frequency, buoyancy_frequency, energy_level, MIXING_EFFICIENCY, MU_0, m_star):\n",
        "    \"\"\"\n",
        "    eq. 18 from Olbers & Eden, 2013\n",
        "    \"\"\"\n",
        "    #MIXING_EFFICIENCY = 0.2\n",
        "    #MU_0 = 1 / 3 #value recommeded by Pollmann et al., 2017\n",
        "    #m_star = 0.01\n",
        "    effective_coriolis_frequency = (\n",
        "        coriolis_frequency *\n",
        "        sp.acosh(buoyancy_frequency / coriolis_frequency)\n",
        "    )\n",
        "\n",
        "    dissipation_rate = (\n",
        "        1 / (1 + MIXING_EFFICIENCY)\n",
        "        * MU_0\n",
        "        * effective_coriolis_frequency\n",
        "        * (m_star) ** 2\n",
        "        * energy_level**2\n",
        "        / buoyancy_frequency**2\n",
        "    )\n",
        "\n",
        "    return dissipation_rate"
      ],
      "metadata": {
        "id": "Fg7dniVNbNeh"
      },
      "execution_count": null,
      "outputs": []
    },
    {
      "cell_type": "code",
      "source": [
        "expr = get_dissipation_rate(coriolis_frequency, buoyancy_frequency, energy_level, MIXING_EFFICIENCY, MU_0, m_star)\n",
        "expr"
      ],
      "metadata": {
        "colab": {
          "base_uri": "https://localhost:8080/",
          "height": 70
        },
        "id": "o6-AyAIcbNRZ",
        "outputId": "446c26b4-78af-449c-be60-cdb2fb1be128"
      },
      "execution_count": null,
      "outputs": [
        {
          "output_type": "execute_result",
          "data": {
            "text/plain": [
              "E**2*\\mu_0*f*m_\\star**2*acosh(N/f)/(N**2*(\\gamma + 1))"
            ],
            "text/latex": "$\\displaystyle \\frac{E^{2} \\mu_{0} f m_{\\star}^{2} \\operatorname{acosh}{\\left(\\frac{N}{f} \\right)}}{N^{2} \\left(\\gamma + 1\\right)}$"
          },
          "metadata": {},
          "execution_count": 4
        }
      ]
    },
    {
      "cell_type": "code",
      "source": [
        "logexpr = sp.log(expr, 10)\n",
        "logexpr"
      ],
      "metadata": {
        "colab": {
          "base_uri": "https://localhost:8080/",
          "height": 80
        },
        "id": "lBOKTIP2gakG",
        "outputId": "25973428-c482-4dd7-ee1a-665d0ad0d906"
      },
      "execution_count": null,
      "outputs": [
        {
          "output_type": "execute_result",
          "data": {
            "text/plain": [
              "log(E**2*\\mu_0*f*m_\\star**2*acosh(N/f)/(N**2*(\\gamma + 1)))/log(10)"
            ],
            "text/latex": "$\\displaystyle \\frac{\\log{\\left(\\frac{E^{2} \\mu_{0} f m_{\\star}^{2} \\operatorname{acosh}{\\left(\\frac{N}{f} \\right)}}{N^{2} \\left(\\gamma + 1\\right)} \\right)}}{\\log{\\left(10 \\right)}}$"
          },
          "metadata": {},
          "execution_count": 5
        }
      ]
    },
    {
      "cell_type": "code",
      "source": [
        "diff_N_logexpr = sp.diff(logexpr, buoyancy_frequency)\n",
        "diff_N_logexpr"
      ],
      "metadata": {
        "colab": {
          "base_uri": "https://localhost:8080/",
          "height": 94
        },
        "id": "vJeXUcKnUYlM",
        "outputId": "ec4d05e0-25b4-41bc-81b2-6194fb07bb30"
      },
      "execution_count": null,
      "outputs": [
        {
          "output_type": "execute_result",
          "data": {
            "text/plain": [
              "N**2*(\\gamma + 1)*(E**2*\\mu_0*m_\\star**2/(N**2*(\\gamma + 1)*sqrt(N/f - 1)*sqrt(N/f + 1)) - 2*E**2*\\mu_0*f*m_\\star**2*acosh(N/f)/(N**3*(\\gamma + 1)))/(E**2*\\mu_0*f*m_\\star**2*log(10)*acosh(N/f))"
            ],
            "text/latex": "$\\displaystyle \\frac{N^{2} \\left(\\gamma + 1\\right) \\left(\\frac{E^{2} \\mu_{0} m_{\\star}^{2}}{N^{2} \\left(\\gamma + 1\\right) \\sqrt{\\frac{N}{f} - 1} \\sqrt{\\frac{N}{f} + 1}} - \\frac{2 E^{2} \\mu_{0} f m_{\\star}^{2} \\operatorname{acosh}{\\left(\\frac{N}{f} \\right)}}{N^{3} \\left(\\gamma + 1\\right)}\\right)}{E^{2} \\mu_{0} f m_{\\star}^{2} \\log{\\left(10 \\right)} \\operatorname{acosh}{\\left(\\frac{N}{f} \\right)}}$"
          },
          "metadata": {},
          "execution_count": 6
        }
      ]
    },
    {
      "cell_type": "code",
      "source": [
        "print(\"dε/dN  =\")\n",
        "sp.simplify(diff_N_logexpr)"
      ],
      "metadata": {
        "colab": {
          "base_uri": "https://localhost:8080/",
          "height": 85
        },
        "id": "qU8JSt73VHoe",
        "outputId": "5b95792e-7073-4ebd-f53a-2bc2f43841e8"
      },
      "execution_count": null,
      "outputs": [
        {
          "output_type": "stream",
          "name": "stdout",
          "text": [
            "dε/dN  =\n"
          ]
        },
        {
          "output_type": "execute_result",
          "data": {
            "text/plain": [
              "1/(sqrt(N**2 - f**2)*log(10)*acosh(N/f)) - 2/(N*log(10))"
            ],
            "text/latex": "$\\displaystyle \\frac{1}{\\sqrt{N^{2} - f^{2}} \\log{\\left(10 \\right)} \\operatorname{acosh}{\\left(\\frac{N}{f} \\right)}} - \\frac{2}{N \\log{\\left(10 \\right)}}$"
          },
          "metadata": {},
          "execution_count": 7
        }
      ]
    },
    {
      "cell_type": "code",
      "source": [
        "diff_E_logexpr = sp.diff(logexpr, energy_level)\n",
        "print(\"dε/dE  =\")\n",
        "diff_E_logexpr"
      ],
      "metadata": {
        "colab": {
          "base_uri": "https://localhost:8080/",
          "height": 73
        },
        "id": "cVhxlHDRXAEK",
        "outputId": "352f6062-a4c7-4341-a199-5ed1d8f4016c"
      },
      "execution_count": null,
      "outputs": [
        {
          "output_type": "stream",
          "name": "stdout",
          "text": [
            "dε/dE  =\n"
          ]
        },
        {
          "output_type": "execute_result",
          "data": {
            "text/plain": [
              "2/(E*log(10))"
            ],
            "text/latex": "$\\displaystyle \\frac{2}{E \\log{\\left(10 \\right)}}$"
          },
          "metadata": {},
          "execution_count": 8
        }
      ]
    },
    {
      "cell_type": "code",
      "source": [
        "# Define the numerical values for the parameters\n",
        "coriolis_frequency_value = 1.0  # Example value, replace with actual value\n",
        "buoyancy_frequency_value = 2.0  # Example value, replace with actual value\n",
        "energy_level_value = 0.5        # Example value, replace with actual value\n",
        "MIXING_EFFICIENCY_value = 0.2   # Example value, replace with actual value\n",
        "MU_0_value = 1/3                # Example value, replace with actual value\n",
        "m_star_value = 0.01             # Example value, replace with actual value\n",
        "\n",
        "# Evaluate the derivative by substituting the values into the symbolic expression\n",
        "evaluated_derivative = dissipation_rate_derivative.subs({\n",
        "    'E': energy_level_value,\n",
        "    'm_star': m_star_value,\n",
        "    'MU_0': MU_0_value,\n",
        "    'f': coriolis_frequency_value,\n",
        "    'N': buoyancy_frequency_value,\n",
        "    'gamma': MIXING_EFFICIENCY_value\n",
        "})\n",
        "\n",
        "# Evaluate the numerical value\n",
        "numerical_value = evaluated_derivative.evalf()\n",
        "\n",
        "# Print the result\n",
        "print(numerical_value)"
      ],
      "metadata": {
        "id": "3O3BiMhjPTZi",
        "outputId": "7a7319c0-46a3-4515-ef7a-19e32433b0b5",
        "colab": {
          "base_uri": "https://localhost:8080/",
          "height": 211
        }
      },
      "execution_count": null,
      "outputs": [
        {
          "output_type": "error",
          "ename": "NameError",
          "evalue": "name 'dissipation_rate_derivative' is not defined",
          "traceback": [
            "\u001b[0;31m---------------------------------------------------------------------------\u001b[0m",
            "\u001b[0;31mNameError\u001b[0m                                 Traceback (most recent call last)",
            "\u001b[0;32m<ipython-input-9-186f82ccaf5b>\u001b[0m in \u001b[0;36m<cell line: 10>\u001b[0;34m()\u001b[0m\n\u001b[1;32m      8\u001b[0m \u001b[0;34m\u001b[0m\u001b[0m\n\u001b[1;32m      9\u001b[0m \u001b[0;31m# Evaluate the derivative by substituting the values into the symbolic expression\u001b[0m\u001b[0;34m\u001b[0m\u001b[0;34m\u001b[0m\u001b[0m\n\u001b[0;32m---> 10\u001b[0;31m evaluated_derivative = dissipation_rate_derivative.subs({\n\u001b[0m\u001b[1;32m     11\u001b[0m     \u001b[0;34m'E'\u001b[0m\u001b[0;34m:\u001b[0m \u001b[0menergy_level_value\u001b[0m\u001b[0;34m,\u001b[0m\u001b[0;34m\u001b[0m\u001b[0;34m\u001b[0m\u001b[0m\n\u001b[1;32m     12\u001b[0m     \u001b[0;34m'm_star'\u001b[0m\u001b[0;34m:\u001b[0m \u001b[0mm_star_value\u001b[0m\u001b[0;34m,\u001b[0m\u001b[0;34m\u001b[0m\u001b[0;34m\u001b[0m\u001b[0m\n",
            "\u001b[0;31mNameError\u001b[0m: name 'dissipation_rate_derivative' is not defined"
          ]
        }
      ]
    },
    {
      "cell_type": "code",
      "source": [
        "from IPython.display import display, Math\n",
        "from sympy import latex, symbols, diff\n",
        "\n",
        "x = symbols('x')\n",
        "y = diff(6*x**5)\n",
        "\n",
        "display(Math(f' y = {latex(y)}'))"
      ],
      "metadata": {
        "id": "_SbqgL5cpgqj"
      },
      "execution_count": null,
      "outputs": []
    }
  ]
}